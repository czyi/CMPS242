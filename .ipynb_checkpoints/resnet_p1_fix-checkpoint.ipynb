{
 "cells": [
  {
   "cell_type": "code",
   "execution_count": 2,
   "metadata": {},
   "outputs": [
    {
     "name": "stderr",
     "output_type": "stream",
     "text": [
      "/home/ziyi/anaconda3/lib/python3.6/importlib/_bootstrap.py:219: RuntimeWarning: compiletime version 3.5 of module 'tensorflow.python.framework.fast_tensor_util' does not match runtime version 3.6\n",
      "  return f(*args, **kwds)\n"
     ]
    }
   ],
   "source": [
    "#id-2 - [1,0], id_7 - [0,1]\n",
    "import tensorflow as tf "
   ]
  },
  {
   "cell_type": "code",
   "execution_count": 3,
   "metadata": {
    "collapsed": true
   },
   "outputs": [],
   "source": [
    "from PIL import Image\n",
    "import numpy as np\n",
    "import matplotlib.pyplot as plt\n",
    "import os\n",
    "import random"
   ]
  },
  {
   "cell_type": "code",
   "execution_count": 23,
   "metadata": {
    "collapsed": true
   },
   "outputs": [],
   "source": [
    "data_x, data_y = [], []"
   ]
  },
  {
   "cell_type": "code",
   "execution_count": 24,
   "metadata": {},
   "outputs": [
    {
     "name": "stdout",
     "output_type": "stream",
     "text": [
      "758\n",
      "758\n"
     ]
    }
   ],
   "source": [
    "folder = '../pixiv/quar_1'\n",
    "for img_file in os.listdir(folder):\n",
    "    img=np.array(Image.open(folder+'/'+img_file))\n",
    "#     img=np.array(Image.open('/'.join([folder, img_file])))\n",
    "#     img = np.reshape(img, 500*500*3)\n",
    "    img = np.reshape(img, len(img)*len(img[0])*len(img[0][0]))\n",
    "#     print(len(img))\n",
    "#     print(img)\n",
    "    data_x.append(img/255.0)\n",
    "    data_y.append([1,0])\n",
    "print(len(data_x))\n",
    "print(len(data_y))"
   ]
  },
  {
   "cell_type": "code",
   "execution_count": 25,
   "metadata": {},
   "outputs": [
    {
     "name": "stdout",
     "output_type": "stream",
     "text": [
      "1498\n",
      "1498\n"
     ]
    }
   ],
   "source": [
    "folder = '../pixiv/quar_3'\n",
    "for img_file in os.listdir(folder):\n",
    "    img=np.array(Image.open(folder+'/'+img_file))\n",
    "#     img=np.array(Image.open('/'.join([folder, img_file])))\n",
    "#     img = np.reshape(img, 500*500*3)\n",
    "    img = np.reshape(img, len(img)*len(img[0])*len(img[0][0]))\n",
    "#     print(len(img))\n",
    "#     print(img)\n",
    "    data_x.append(img/255.0)\n",
    "    data_y.append([0,1])\n",
    "print(len(data_x))\n",
    "print(len(data_y))"
   ]
  },
  {
   "cell_type": "code",
   "execution_count": 26,
   "metadata": {},
   "outputs": [
    {
     "name": "stdout",
     "output_type": "stream",
     "text": [
      "[[ 0.84705883  0.59215689  0.58431375 ...,  0.24705882  0.17647059\n",
      "   0.23921569]\n",
      " [ 0.98039216  0.89411765  0.90196079 ...,  0.90980393  0.64705884\n",
      "   0.71764708]\n",
      " [ 1.          1.          1.         ...,  0.87058824  0.82745099\n",
      "   0.81176472]\n",
      " ..., \n",
      " [ 0.11372549  0.17254902  0.04313726 ...,  0.83137256  0.80000001\n",
      "   0.3019608 ]\n",
      " [ 0.98823529  0.98039216  0.98431373 ...,  0.95294118  0.9254902\n",
      "   0.95294118]\n",
      " [ 0.43137255  0.59215689  0.45882353 ...,  0.23529412  0.19607843\n",
      "   0.1882353 ]]\n",
      "[[ 1.  0.]\n",
      " [ 1.  0.]\n",
      " [ 1.  0.]\n",
      " [ 1.  0.]\n",
      " [ 1.  0.]\n",
      " [ 1.  0.]\n",
      " [ 1.  0.]\n",
      " [ 1.  0.]\n",
      " [ 1.  0.]\n",
      " [ 1.  0.]]\n"
     ]
    }
   ],
   "source": [
    "data_x = np.array(data_x, dtype='float32')\n",
    "data_y = np.array(data_y, dtype='float32')\n",
    "\n",
    "print(data_x[:10])\n",
    "print(data_y[:10])"
   ]
  },
  {
   "cell_type": "code",
   "execution_count": 27,
   "metadata": {},
   "outputs": [
    {
     "name": "stdout",
     "output_type": "stream",
     "text": [
      "1498\n",
      "1348\n",
      "1348\n",
      "150\n"
     ]
    }
   ],
   "source": [
    "order = [i for i in range(len(data_x))]\n",
    "random.shuffle(order)\n",
    "\n",
    "print(len(order))\n",
    "n=int(len(data_x)*9/10)\n",
    "print(n)\n",
    "\n",
    "train_x = [data_x[i] for i in order[0:n]]\n",
    "train_y = [data_y[i] for i in order[0:n]]\n",
    "\n",
    "test_x = [data_x[i] for i in order[n:]]\n",
    "test_y = [data_y[i] for i in order[n:]]\n",
    "\n",
    "print(len(train_x))\n",
    "print(len(test_y))"
   ]
  },
  {
   "cell_type": "code",
   "execution_count": 28,
   "metadata": {},
   "outputs": [
    {
     "name": "stdout",
     "output_type": "stream",
     "text": [
      "(?, 250, 250, 16)\n",
      "(?, 125, 125, 16)\n",
      "(?, 63, 63, 32)\n",
      "(?, 32, 32, 64)\n",
      "(?, 16, 16, 64)\n",
      "16384\n",
      "(?, 16384)\n"
     ]
    }
   ],
   "source": [
    "graph = tf.Graph()\n",
    "learning_rate=0.001\n",
    "num_class = 2\n",
    "\n",
    "with graph.as_default(), tf.device('/gpu:0'):\n",
    "    is_training=True\n",
    "\n",
    "    def tf_variable(shape, name=None):\n",
    "        return tf.Variable(tf.truncated_normal(shape, stddev=0.1), name=name)\n",
    "\n",
    "    def dense_connect(x, shape):\n",
    "        w = tf_variable(shape)\n",
    "        b = tf.Variable(tf.zeros([shape[1]]))\n",
    "        return tf.matmul(x, w) + b\n",
    "\n",
    "    def batch_norm(inputs, is_training,is_conv_out=True,decay = 0.999):\n",
    "        scale = tf.Variable(tf.ones([inputs.get_shape()[-1]]))\n",
    "        beta = tf.Variable(tf.zeros([inputs.get_shape()[-1]]))\n",
    "        pop_mean = tf.Variable(tf.zeros([inputs.get_shape()[-1]]), trainable=False)\n",
    "        pop_var = tf.Variable(tf.ones([inputs.get_shape()[-1]]), trainable=False)\n",
    "        if is_training:\n",
    "            if is_conv_out:\n",
    "                batch_mean, batch_var = tf.nn.moments(inputs,[0,1,2])\n",
    "            else:\n",
    "                batch_mean, batch_var = tf.nn.moments(inputs,[0])   \n",
    "\n",
    "            train_mean = tf.assign(pop_mean,\n",
    "                                   pop_mean * decay + batch_mean * (1 - decay))\n",
    "            train_var = tf.assign(pop_var,\n",
    "                                  pop_var * decay + batch_var * (1 - decay))\n",
    "            with tf.control_dependencies([train_mean, train_var]):\n",
    "                return tf.nn.batch_normalization(inputs,\n",
    "                    batch_mean, batch_var, beta, scale, 0.001)\n",
    "        else:\n",
    "            return tf.nn.batch_normalization(inputs,\n",
    "                pop_mean, pop_var, beta, scale, 0.001)\n",
    "\n",
    "    def conv2d_with_batch_norm(x, filter_shape, stride):\n",
    "        filter_ = tf_variable(filter_shape)\n",
    "        conv = tf.nn.conv2d(x, filter=filter_, strides=[1, stride, stride, 1], padding=\"SAME\")\n",
    "        normed=batch_norm(conv, is_training)\n",
    "        return  tf.nn.relu(normed)\n",
    "\n",
    "\n",
    "    def conv2d(x, filter_shape, stride):\n",
    "        out_channels = filter_shape[3]\n",
    "        conv = tf.nn.conv2d(x, filter=tf_variable(filter_shape), strides=[1, stride, stride, 1], padding=\"SAME\")\n",
    "        bias = tf.Variable(tf.zeros([out_channels]), name=\"bias\")\n",
    "        return tf.nn.relu(tf.nn.bias_add(conv,bias))\n",
    "\n",
    "\n",
    "    def max_pool(x):\n",
    "        return tf.nn.max_pool(x, ksize=[1,2,2,1], strides=[1,2,2,1], padding='SAME')\n",
    "\n",
    "    def residual_block(x, out_channels, down_sample, projection=False):\n",
    "        in_channels = x.get_shape().as_list()[3]\n",
    "        if down_sample:\n",
    "            x = max_pool(x)\n",
    "\n",
    "        output = conv2d_with_batch_norm(x, [3, 3, in_channels, out_channels], 1)\n",
    "        output = conv2d_with_batch_norm(output, [3, 3, out_channels, out_channels], 1)\n",
    "\n",
    "        if in_channels != out_channels:\n",
    "            if projection:\n",
    "                # projection shortcut\n",
    "                input_ = conv2d(x, [1, 1, in_channels, out_channels], 2)\n",
    "            else:\n",
    "                # zero-padding\n",
    "                input_ = tf.pad(x, [[0,0], [0,0], [0,0], [0, out_channels - in_channels]])\n",
    "        else:\n",
    "            input_ = x\n",
    "\n",
    "        return output + input_\n",
    "\n",
    "\n",
    "    def residual_group(name,x,num_block,out_channels):\n",
    "        assert num_block>=1,'num_block must greater than 1'\n",
    "        with tf.variable_scope('%s_head'%name):\n",
    "            output = residual_block(x, out_channels, True)\n",
    "        for i in range (num_block-1):\n",
    "            with tf.variable_scope('%s_%d' % (name,i+1)):\n",
    "                output = residual_block(output,out_channels, False)\n",
    "        return output\n",
    "\n",
    "\n",
    "    def residual_net(inpt):\n",
    "        with tf.variable_scope('conv1'):\n",
    "            output = conv2d(inpt, [3, 3, 3, 16], 1)\n",
    "            print(output.shape)\n",
    "        output=residual_group('conv2', x=output,num_block=2,out_channels=16)\n",
    "        print(output.shape)\n",
    "        output=residual_group('conv3', x=output,num_block=2,out_channels=32)\n",
    "        print(output.shape)\n",
    "        output=residual_group('conv4', x=output,num_block=2,out_channels=64)\n",
    "        print(output.shape)\n",
    "        with tf.variable_scope('fc'):\n",
    "            output=max_pool(output)\n",
    "            print(output.shape)\n",
    "            shape=output.get_shape().as_list()\n",
    "            i_shape=shape[1]*shape[2]*shape[3]\n",
    "            print(i_shape)\n",
    "            output=tf.reshape(output,[-1,i_shape])\n",
    "            print(output.shape)\n",
    "            return dense_connect(output, [i_shape, num_class])\n",
    "\n",
    "    x = tf.placeholder(\"float\", [None, 250*250*3])#[batch_size,width,height,channels]\n",
    "    y = tf.placeholder(\"float\", [None, num_class])#[batch_size,num_classes]\n",
    "\n",
    "    x_image = tf.reshape(x, [-1,250,250,3])\n",
    "    pred = residual_net(x_image)\n",
    "\n",
    "    cost = tf.reduce_mean(tf.nn.softmax_cross_entropy_with_logits(labels=y, logits=pred))\n",
    "    optimizer = tf.train.AdamOptimizer(learning_rate=learning_rate).minimize(cost)\n",
    "\n",
    "    correct_pred = tf.equal(tf.argmax(pred,1), tf.argmax(y,1))\n",
    "    accuracy = tf.reduce_mean(tf.cast(correct_pred, tf.float32))\n",
    "#     accuracyte = tf.reduce_mean(tf.cast(correct_pred, tf.float32))"
   ]
  },
  {
   "cell_type": "code",
   "execution_count": 29,
   "metadata": {
    "scrolled": false
   },
   "outputs": [
    {
     "name": "stdout",
     "output_type": "stream",
     "text": [
      "Initialized\n",
      "Loss at step 0: 12.538411\n",
      "accuarcy is  0.45\n",
      "test loss,  43.1323  test accur is  0.553333\n",
      "Loss at step 1: 45.856583\n",
      "accuarcy is  0.483333\n",
      "test loss,  17.351  test accur is  0.593333\n",
      "Loss at step 2: 13.428330\n",
      "accuarcy is  0.541667\n",
      "test loss,  10.8402  test accur is  0.62\n",
      "Loss at step 3: 5.849738\n",
      "accuarcy is  0.716667\n",
      "test loss,  24.5754  test accur is  0.473333\n",
      "Loss at step 4: 14.647223\n",
      "accuarcy is  0.575\n",
      "test loss,  22.0636  test accur is  0.506667\n",
      "Loss at step 5: 10.936029\n",
      "accuarcy is  0.658333\n",
      "test loss,  12.7113  test accur is  0.633333\n",
      "Loss at step 6: 3.779202\n",
      "accuarcy is  0.816667\n",
      "test loss,  6.05929  test accur is  0.78\n",
      "Loss at step 7: 1.104964\n",
      "accuarcy is  0.916667\n",
      "test loss,  5.54541  test accur is  0.766667\n",
      "Loss at step 8: 1.570704\n",
      "accuarcy is  0.908333\n",
      "test loss,  6.72435  test accur is  0.773333\n",
      "Loss at step 9: 2.490453\n",
      "accuarcy is  0.875\n",
      "test loss,  7.41073  test accur is  0.78\n",
      "train finished\n"
     ]
    }
   ],
   "source": [
    "batch_size = 120\n",
    "training_iters=10\n",
    "batch_start=0\n",
    "\n",
    "with tf.Session(graph=graph) as sess:\n",
    "    tf.global_variables_initializer().run()\n",
    "    step = 1\n",
    "    print('Initialized')\n",
    "    for step in range(training_iters): \n",
    "        if(batch_start+batch_size>=len(train_x)): \n",
    "            order = [i for i in range(len(train_x))]\n",
    "            random.shuffle(order)\n",
    "            train_x = [train_x[i] for i in order]\n",
    "            train_y = [train_y[i] for i in order]\n",
    "            batch_start = 0   \n",
    "        feed_x = train_x[batch_start:batch_start+batch_size]\n",
    "        feed_y = train_y[batch_start:batch_start+batch_size]\n",
    "        \n",
    "#         sess.run(optimizer, feed_dict={inputs: feed_x, labels: feed_y})\n",
    "        _, l, accur = sess.run([optimizer, cost, accuracy], feed_dict = {x: feed_x, y: feed_y})\n",
    "        if(step % 1 == 0):\n",
    "            print('Loss at step %d: %f' % (step, l))\n",
    "            print('accuarcy is ', accur)\n",
    "            \n",
    "        test_loss, test_accur = sess.run([cost, accuracy], feed_dict={x: test_x, y: test_y})\n",
    "        print('test loss, ', test_loss, ' test accur is ', test_accur)\n",
    "            \n",
    "print(\"train finished\")"
   ]
  },
  {
   "cell_type": "code",
   "execution_count": null,
   "metadata": {
    "collapsed": true
   },
   "outputs": [],
   "source": []
  }
 ],
 "metadata": {
  "kernelspec": {
   "display_name": "Python 3",
   "language": "python",
   "name": "python3"
  },
  "language_info": {
   "codemirror_mode": {
    "name": "ipython",
    "version": 3
   },
   "file_extension": ".py",
   "mimetype": "text/x-python",
   "name": "python",
   "nbconvert_exporter": "python",
   "pygments_lexer": "ipython3",
   "version": "3.6.3"
  }
 },
 "nbformat": 4,
 "nbformat_minor": 2
}
